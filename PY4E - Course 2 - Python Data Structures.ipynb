{
 "cells": [
  {
   "cell_type": "code",
   "execution_count": 5,
   "metadata": {},
   "outputs": [
    {
     "name": "stdout",
     "output_type": "stream",
     "text": [
      "b\n",
      "a\n",
      "n\n",
      "a\n",
      "n\n",
      "a\n"
     ]
    }
   ],
   "source": [
    "# 6.1 - Strings\n",
    "# #looping through strings:\n",
    "\n",
    "fruit = 'banana'\n",
    "index = 0\n",
    "while index < len(fruit):\n",
    "    letter = fruit[index]\n",
    "    print(letter)\n",
    "    index = index + 1"
   ]
  },
  {
   "cell_type": "code",
   "execution_count": 3,
   "metadata": {},
   "outputs": [
    {
     "name": "stdout",
     "output_type": "stream",
     "text": [
      "b\n",
      "a\n",
      "n\n",
      "a\n",
      "n\n",
      "a\n"
     ]
    }
   ],
   "source": [
    "# 6.1 - Strings\n",
    "#simpler version of above:\n",
    "\n",
    "fruit = 'banana'\n",
    "for letter in fruit:\n",
    "    print(letter)"
   ]
  },
  {
   "cell_type": "code",
   "execution_count": 6,
   "metadata": {},
   "outputs": [
    {
     "name": "stdout",
     "output_type": "stream",
     "text": [
      "3\n"
     ]
    }
   ],
   "source": [
    "# 6.1 - Strings\n",
    "#looping and counting:\n",
    "\n",
    "word = 'banana'\n",
    "count = 0\n",
    "for letter in word:\n",
    "    if letter == 'a':\n",
    "        count = count + 1\n",
    "print(count)\n"
   ]
  },
  {
   "cell_type": "code",
   "execution_count": 14,
   "metadata": {},
   "outputs": [
    {
     "name": "stdout",
     "output_type": "stream",
     "text": [
      "arlo\n",
      "carlo\n",
      "uardo\n"
     ]
    }
   ],
   "source": [
    "# 6.1 - Strings\n",
    "# slicing strings:\n",
    "\n",
    "stg = 'carlos eduardo'\n",
    "print(stg[1:5])\n",
    "print(stg[:5])\n",
    "print(stg[9:])\n",
    "\n",
    "# the count starts at ZERO!!!\n",
    "# # note that the first number is included in the list but the last, no!\n",
    "# using empty slots make it count from first or until last..."
   ]
  },
  {
   "cell_type": "code",
   "execution_count": 18,
   "metadata": {},
   "outputs": [
    {
     "data": {
      "text/plain": [
       "True"
      ]
     },
     "execution_count": 18,
     "metadata": {},
     "output_type": "execute_result"
    }
   ],
   "source": [
    "# 6.2 - Manipulating Strings\n",
    "# using in as a Logical Operator:\n",
    "\n",
    "fruit = 'banana'\n",
    "'n' in fruit\n"
   ]
  },
  {
   "cell_type": "code",
   "execution_count": 36,
   "metadata": {},
   "outputs": [
    {
     "name": "stdout",
     "output_type": "stream",
     "text": [
      "  hello world\n",
      "  HELLO WORLD\n",
      "  hello world\n",
      "4\n",
      "-1\n",
      "  Hola world\n",
      "Hello world\n",
      "False\n"
     ]
    }
   ],
   "source": [
    "# 6.2 - Manipulating Strings\n",
    "# methods class string:\n",
    "\n",
    "string = '  Hello world'\n",
    "print(string.lower())\n",
    "print(string.upper())\n",
    "print(string.capitalize())\n",
    "print(string.find('l')) #find the position\n",
    "print(string.find('z')) #returns -1 as negative\n",
    "print(string.replace('Hello','Hola'))\n",
    "print(string.lstrip()) #lstrip() and rstrip() remove whitespace at left and right\n",
    "print(string.startswith('H')) #founds if the string starts with letter H\n"
   ]
  },
  {
   "cell_type": "code",
   "execution_count": 41,
   "metadata": {},
   "outputs": [
    {
     "name": "stdout",
     "output_type": "stream",
     "text": [
      "0.8475\n"
     ]
    }
   ],
   "source": [
    "# 6.5 Write code using find() and string slicing (see section 6.10) to extract the number at the end of the line below. Convert the extracted value to a floating point number and print it out.\n",
    "text = \"X-DSPAM-Confidence:    0.8475\"\n",
    "x = text.find('0')\n",
    "n = int(x)\n",
    "y = float(text[n:])\n",
    "print(y)"
   ]
  },
  {
   "cell_type": "code",
   "execution_count": 40,
   "metadata": {},
   "outputs": [
    {
     "ename": "FileNotFoundError",
     "evalue": "[Errno 2] No such file or directory: 'arquivo.txt'",
     "output_type": "error",
     "traceback": [
      "\u001b[1;31m---------------------------------------------------------------------------\u001b[0m",
      "\u001b[1;31mFileNotFoundError\u001b[0m                         Traceback (most recent call last)",
      "\u001b[1;32mc:\\Users\\Carlos\\OneDrive\\Área de Trabalho\\harve\\python\\PY4E - Course 2 - Python Data Structures.ipynb Cell 8\u001b[0m line \u001b[0;36m3\n\u001b[0;32m      <a href='vscode-notebook-cell:/c%3A/Users/Carlos/OneDrive/%C3%81rea%20de%20Trabalho/harve/python/PY4E%20-%20Course%202%20-%20Python%20Data%20Structures.ipynb#X11sZmlsZQ%3D%3D?line=0'>1</a>\u001b[0m \u001b[39m# 7.1 - Files\u001b[39;00m\n\u001b[0;32m      <a href='vscode-notebook-cell:/c%3A/Users/Carlos/OneDrive/%C3%81rea%20de%20Trabalho/harve/python/PY4E%20-%20Course%202%20-%20Python%20Data%20Structures.ipynb#X11sZmlsZQ%3D%3D?line=1'>2</a>\u001b[0m \u001b[39m# open the file that u are going to use:\u001b[39;00m\n\u001b[1;32m----> <a href='vscode-notebook-cell:/c%3A/Users/Carlos/OneDrive/%C3%81rea%20de%20Trabalho/harve/python/PY4E%20-%20Course%202%20-%20Python%20Data%20Structures.ipynb#X11sZmlsZQ%3D%3D?line=2'>3</a>\u001b[0m file_x \u001b[39m=\u001b[39m \u001b[39mopen\u001b[39;49m(\u001b[39m'\u001b[39;49m\u001b[39marquivo.txt\u001b[39;49m\u001b[39m'\u001b[39;49m)\n\u001b[0;32m      <a href='vscode-notebook-cell:/c%3A/Users/Carlos/OneDrive/%C3%81rea%20de%20Trabalho/harve/python/PY4E%20-%20Course%202%20-%20Python%20Data%20Structures.ipynb#X11sZmlsZQ%3D%3D?line=4'>5</a>\u001b[0m \u001b[39m# this one is going to crash, cause the arquivo.txt does not exist\u001b[39;00m\n",
      "File \u001b[1;32m~\\AppData\\Roaming\\Python\\Python312\\site-packages\\IPython\\core\\interactiveshell.py:286\u001b[0m, in \u001b[0;36m_modified_open\u001b[1;34m(file, *args, **kwargs)\u001b[0m\n\u001b[0;32m    279\u001b[0m \u001b[39mif\u001b[39;00m file \u001b[39min\u001b[39;00m {\u001b[39m0\u001b[39m, \u001b[39m1\u001b[39m, \u001b[39m2\u001b[39m}:\n\u001b[0;32m    280\u001b[0m     \u001b[39mraise\u001b[39;00m \u001b[39mValueError\u001b[39;00m(\n\u001b[0;32m    281\u001b[0m         \u001b[39mf\u001b[39m\u001b[39m\"\u001b[39m\u001b[39mIPython won\u001b[39m\u001b[39m'\u001b[39m\u001b[39mt let you open fd=\u001b[39m\u001b[39m{\u001b[39;00mfile\u001b[39m}\u001b[39;00m\u001b[39m by default \u001b[39m\u001b[39m\"\u001b[39m\n\u001b[0;32m    282\u001b[0m         \u001b[39m\"\u001b[39m\u001b[39mas it is likely to crash IPython. If you know what you are doing, \u001b[39m\u001b[39m\"\u001b[39m\n\u001b[0;32m    283\u001b[0m         \u001b[39m\"\u001b[39m\u001b[39myou can use builtins\u001b[39m\u001b[39m'\u001b[39m\u001b[39m open.\u001b[39m\u001b[39m\"\u001b[39m\n\u001b[0;32m    284\u001b[0m     )\n\u001b[1;32m--> 286\u001b[0m \u001b[39mreturn\u001b[39;00m io_open(file, \u001b[39m*\u001b[39;49margs, \u001b[39m*\u001b[39;49m\u001b[39m*\u001b[39;49mkwargs)\n",
      "\u001b[1;31mFileNotFoundError\u001b[0m: [Errno 2] No such file or directory: 'arquivo.txt'"
     ]
    }
   ],
   "source": [
    "# 7.1 - Files\n",
    "# open the file that u are going to use:\n",
    "file_x = open('arquivo.txt')\n",
    "\n",
    "# this one is going to crash, cause the arquivo.txt does not exist\n"
   ]
  },
  {
   "cell_type": "code",
   "execution_count": 4,
   "metadata": {},
   "outputs": [
    {
     "name": "stdout",
     "output_type": "stream",
     "text": [
      "1\n",
      "2\n"
     ]
    },
    {
     "data": {
      "text/plain": [
       "3"
      ]
     },
     "execution_count": 4,
     "metadata": {},
     "output_type": "execute_result"
    }
   ],
   "source": [
    "# 7.1 - Files\n",
    "# \\n for newline will be showed in the print from a file print!\n",
    "# curiosity: newline (\\n) is still one character, not two!\n",
    "x = '1\\n2'\n",
    "print(x)\n",
    "len(x)\n"
   ]
  },
  {
   "cell_type": "code",
   "execution_count": null,
   "metadata": {},
   "outputs": [],
   "source": [
    "# 7.2 - Processing Files:\n",
    "# this command will set 'lines' as real lines in the file that u invoked!\n",
    "file_x = open('arquivo.txt')\n",
    "for lines in file_x:\n",
    "    print(lines)\n",
    "    \n",
    "# counting the lines:\n",
    "file_x = open('arquivo.txt')\n",
    "count = 0\n",
    "for lines in file_x:\n",
    "    count = count + 1\n",
    "    print('Count of lines:', count)\n",
    "\n",
    "# reading the \"whole\" file in a single string:\n",
    "file_x = open('arquivo.txt')\n",
    "inp = file_x.read()\n",
    "print(len(inp)) #will count the lenght, number of characters...\n",
    "print(inp) # will print it all...\n",
    "print(inp[:100]) # u can still split it and use methods u want!\n",
    "\n",
    "# searching through a file:\n",
    "file_x = open('arquivo.txt')\n",
    "for line in file_x:\n",
    "    if line.startswith('keyword'):\n",
    "        print(line)\n",
    "\n",
    "# searching through a file correted about \"\\n \\n\" \n",
    "file_x = open('arquivo.txt')\n",
    "for line in file_x:\n",
    "    line = line.rstrip()    #this will remove the repetitive \\n \\n\n",
    "    if line.startswith('keyword'):\n",
    "        print(line)\n",
    "\n",
    "# searching through a file (variable method)\n",
    "file_x = open('arquivo.txt')\n",
    "for line in file_x:\n",
    "    line = line.rstrip() \n",
    "    if not 'keyword' in line:\n",
    "            continue #this will skip lines that has no 'keyword' in it\n",
    "    print(line)\n",
    "\n",
    "# u can prompt for file name!\n",
    "# this command will ask for the file name, then count the lines that start with 'keyword' and print the result\n",
    "filename = input('Enter the file name: ')\n",
    "filehand = open(filename)\n",
    "count = 0\n",
    "for line in filehand:\n",
    "    if line.startwith('keyword'):\n",
    "        count = count + 1\n",
    "print('There wew', count, 'keywords in', filename)\n",
    "\n",
    "# bad file names: add this \"try\" step:\n",
    "filename = input('Enter the file name: ')\n",
    "try:\n",
    "    filehand = open(filename)\n",
    "except:\n",
    "    print('File cant find that file')\n",
    "count = 0\n",
    "for line in filehand:\n",
    "    if line.startwith('keyword'):\n",
    "        count = count + 1\n",
    "print('There wew', count, 'keywords in', filename)"
   ]
  },
  {
   "cell_type": "code",
   "execution_count": null,
   "metadata": {},
   "outputs": [],
   "source": [
    "#7.1 Write a program that prompts for a file name, then opens that file and reads through the file, and print the contents of the file in upper case. Use the file words.txt to produce the output below.\n",
    "You can download the sample data at http://www.py4e.com/code3/words.txt\n",
    "\n",
    "# Use words.txt as the file name\n",
    "filename = input(\"Enter file name: \")\n",
    "openfile = open(filename)\n",
    "for line in openfile:\n",
    "    line = line.rstrip()\n",
    "    print(line.upper())"
   ]
  },
  {
   "cell_type": "code",
   "execution_count": null,
   "metadata": {},
   "outputs": [],
   "source": [
    "# 7.2 Write a program that prompts for a file name, then opens that file and reads through the file, looking for lines of the form:\n",
    "# X-DSPAM-Confidence:    0.8475\n",
    "# Count these lines and extract the floating point values from each of the lines and compute the average of those values and produce an output as shown below. Do not use the sum() function or a variable named sum in your solution.\n",
    "# You can download the sample data at http://www.py4e.com/code3/mbox-short.txt when you are testing below enter mbox-short.txt as the file name.\n",
    "\n",
    "# Use the file name mbox-short.txt as the file name\n",
    "\n",
    "filename = input(\"Enter file name: \")\n",
    "openfile = open(filename)\n",
    "count = 0\n",
    "total = 0\n",
    "for line in openfile:\n",
    "    if not line.startswith(\"X-DSPAM-Confidence:\"):\n",
    "        continue\n",
    "    if line.startswith(\"X-DSPAM-Confidence:\"):\n",
    "        count = count + 1\n",
    "        line = line[19:]\n",
    "        nline = float(line)\n",
    "        total = total + nline\n",
    "avg = total / count\n",
    "print('Average spam confidence:', avg)"
   ]
  },
  {
   "cell_type": "code",
   "execution_count": 11,
   "metadata": {},
   "outputs": [
    {
     "name": "stdout",
     "output_type": "stream",
     "text": [
      "4\n"
     ]
    }
   ],
   "source": [
    "# 8.1 Lists\n",
    "# variable = 1 value, lists got more then 1 value...\n",
    "# use \"['um', 'dois', 'tres']\" to define it\n",
    "# u can even use other lists inside lists...\n",
    "list = [1, 2, 3, [5, 6, 7], 4]\n",
    "# u can change items from list\n",
    "list[2] = 4\n",
    "print(list[2])"
   ]
  },
  {
   "cell_type": "code",
   "execution_count": 21,
   "metadata": {},
   "outputs": [
    {
     "name": "stdout",
     "output_type": "stream",
     "text": [
      "Hello Joao\n",
      "Hello Maria\n",
      "Hello Manoel\n",
      "Hello Joao\n",
      "Hello Maria\n",
      "Hello Manoel\n"
     ]
    }
   ],
   "source": [
    "# 8.1 Lists\n",
    "\n",
    "friends = ['Joao', 'Maria', 'Manoel']\n",
    "\n",
    "for friend in friends:\n",
    "    print('Hello', friend)\n",
    "\n",
    "# this both as equals!\n",
    "\n",
    "for i in range(len(friends)):\n",
    "    friend = friends [i]\n",
    "    print(\"Hello\", friend)\n",
    "\n"
   ]
  },
  {
   "cell_type": "code",
   "execution_count": 23,
   "metadata": {},
   "outputs": [
    {
     "name": "stdout",
     "output_type": "stream",
     "text": [
      "3\n",
      "range(0, 3)\n"
     ]
    }
   ],
   "source": [
    "#8.1 Lists\n",
    "friends = ['Joao', 'Maria', 'Manoel']\n",
    "\n",
    "print(len(friends))\n",
    "print(range(len(friends)))\n"
   ]
  },
  {
   "cell_type": "code",
   "execution_count": 39,
   "metadata": {},
   "outputs": [
    {
     "ename": "TypeError",
     "evalue": "'list' object is not callable",
     "output_type": "error",
     "traceback": [
      "\u001b[1;31m---------------------------------------------------------------------------\u001b[0m",
      "\u001b[1;31mTypeError\u001b[0m                                 Traceback (most recent call last)",
      "\u001b[1;32mc:\\Users\\Carlos\\OneDrive\\Área de Trabalho\\harve\\python\\PY4E - Course 2 - Python Data Structures.ipynb Cell 16\u001b[0m line \u001b[0;36m6\n\u001b[0;32m      <a href='vscode-notebook-cell:/c%3A/Users/Carlos/OneDrive/%C3%81rea%20de%20Trabalho/harve/python/PY4E%20-%20Course%202%20-%20Python%20Data%20Structures.ipynb#X22sZmlsZQ%3D%3D?line=0'>1</a>\u001b[0m \u001b[39m# 8.2 Manipulating Lists\u001b[39;00m\n\u001b[0;32m      <a href='vscode-notebook-cell:/c%3A/Users/Carlos/OneDrive/%C3%81rea%20de%20Trabalho/harve/python/PY4E%20-%20Course%202%20-%20Python%20Data%20Structures.ipynb#X22sZmlsZQ%3D%3D?line=1'>2</a>\u001b[0m \u001b[39m# What u can do to lists:\u001b[39;00m\n\u001b[0;32m      <a href='vscode-notebook-cell:/c%3A/Users/Carlos/OneDrive/%C3%81rea%20de%20Trabalho/harve/python/PY4E%20-%20Course%202%20-%20Python%20Data%20Structures.ipynb#X22sZmlsZQ%3D%3D?line=2'>3</a>\u001b[0m \u001b[39m# concatenating: \" + \"\u001b[39;00m\n\u001b[0;32m      <a href='vscode-notebook-cell:/c%3A/Users/Carlos/OneDrive/%C3%81rea%20de%20Trabalho/harve/python/PY4E%20-%20Course%202%20-%20Python%20Data%20Structures.ipynb#X22sZmlsZQ%3D%3D?line=3'>4</a>\u001b[0m \u001b[39m# slicing: \" list[3:5]\" \"\u001b[39;00m\n\u001b[0;32m      <a href='vscode-notebook-cell:/c%3A/Users/Carlos/OneDrive/%C3%81rea%20de%20Trabalho/harve/python/PY4E%20-%20Course%202%20-%20Python%20Data%20Structures.ipynb#X22sZmlsZQ%3D%3D?line=4'>5</a>\u001b[0m \u001b[39m# building a list: \u001b[39;00m\n\u001b[1;32m----> <a href='vscode-notebook-cell:/c%3A/Users/Carlos/OneDrive/%C3%81rea%20de%20Trabalho/harve/python/PY4E%20-%20Course%202%20-%20Python%20Data%20Structures.ipynb#X22sZmlsZQ%3D%3D?line=5'>6</a>\u001b[0m stuff \u001b[39m=\u001b[39m \u001b[39mlist\u001b[39;49m()\n\u001b[0;32m      <a href='vscode-notebook-cell:/c%3A/Users/Carlos/OneDrive/%C3%81rea%20de%20Trabalho/harve/python/PY4E%20-%20Course%202%20-%20Python%20Data%20Structures.ipynb#X22sZmlsZQ%3D%3D?line=6'>7</a>\u001b[0m stuff\u001b[39m.\u001b[39mappend(\u001b[39m'\u001b[39m\u001b[39mbook\u001b[39m\u001b[39m'\u001b[39m)\n\u001b[0;32m      <a href='vscode-notebook-cell:/c%3A/Users/Carlos/OneDrive/%C3%81rea%20de%20Trabalho/harve/python/PY4E%20-%20Course%202%20-%20Python%20Data%20Structures.ipynb#X22sZmlsZQ%3D%3D?line=7'>8</a>\u001b[0m stuff\u001b[39m.\u001b[39mappend(\u001b[39m'\u001b[39m\u001b[39mapple\u001b[39m\u001b[39m'\u001b[39m)\n",
      "\u001b[1;31mTypeError\u001b[0m: 'list' object is not callable"
     ]
    }
   ],
   "source": [
    "# 8.2 Manipulating Lists\n",
    "# What u can do to lists:\n",
    "# concatenating: \" + \"\n",
    "# slicing: \" list[3:5]\" \"\n",
    "# building a list: \n",
    "stuff = list()\n",
    "stuff.append('book')\n",
    "stuff.append('apple')\n",
    "print(stuff)\n",
    "\n",
    "# list.sort = mix the components\n",
    "# sum: 'sum(list)'\n",
    "# count: 'len(list)'\n",
    "# avg: 'sum(list) / len(list)'\n"
   ]
  },
  {
   "cell_type": "code",
   "execution_count": null,
   "metadata": {},
   "outputs": [],
   "source": [
    "# 8.4 Open the file romeo.txt and read it line by line. For each line, split the line into a list of words using the split() method. The program should build a list of words. For each word on each line check to see if the word is already in the list and if not append it to the list. When the program completes, sort and print the resulting words in python sort() order as shown in the desired output.\n",
    "# You can download the sample data at http://www.py4e.com/code3/romeo.txt\n",
    "\n",
    "fileopen = open('romeo.txt')\n",
    "uniquewords = list()\n",
    "for lines in fileopen:\n",
    "    lines = lines.rstrip()\n",
    "    words = list()\n",
    "    words = lines.split()\n",
    "    for word in words:\n",
    "        if word not in uniquewords:\n",
    "            uniquewords.append(word)\n",
    "uniquewords.sort()\n",
    "print(uniquewords)"
   ]
  },
  {
   "cell_type": "code",
   "execution_count": null,
   "metadata": {},
   "outputs": [],
   "source": [
    "# 8.5 Open the file mbox-short.txt and read it line by line. When you find a line that starts with 'From ' like the following line:\n",
    "# From stephen.marquard@uct.ac.za Sat Jan  5 09:14:16 2008\n",
    "# You will parse the From line using split() and print out the second word in the line (i.e. the entire address of the person who sent the message). Then print out a count at the end.\n",
    "# Hint: make sure not to include the lines that start with 'From:'. Also look at the last line of the sample output to see how to print the count.\n",
    "# You can download the sample data at http://www.py4e.com/code3/mbox-short.txt\n",
    "\n",
    "openfile = open('mbox-short.txt')\n",
    "count = 0\n",
    "for lines in openfile:\n",
    "    lines = lines.rstrip()\n",
    "    if lines.startswith('From:'):\n",
    "        continue\n",
    "    if lines.startswith('From'):\n",
    "        email = list()\n",
    "        email = lines.split()\n",
    "        print(email[1])\n",
    "        count = count + 1    \n",
    "print('There were', count, 'lines in the file with From as the first word')"
   ]
  },
  {
   "cell_type": "code",
   "execution_count": 3,
   "metadata": {},
   "outputs": [
    {
     "name": "stdout",
     "output_type": "stream",
     "text": [
      "{'money': 12, 'candy': 3, 'tissue': 75}\n",
      "3\n",
      "{'money': 12, 'candy': 5, 'tissue': 75}\n"
     ]
    }
   ],
   "source": [
    "# 9.1 Dictionaries\n",
    "# It's a collection like Lists, works mostly equal, but with a keyvalue\n",
    "# its the python's most powerful data collection\n",
    "# commando: \"purse = dict()\"\n",
    "purse = dict()\n",
    "purse['money'] = 12\n",
    "purse['candy'] = 3\n",
    "purse['tissue'] = 75\n",
    "print(purse)\n",
    "print(purse['candy'])\n",
    "purse['candy'] = purse['candy'] + 2   # like lists, dictionaries are mutable!\n",
    "print(purse)"
   ]
  },
  {
   "cell_type": "code",
   "execution_count": 6,
   "metadata": {},
   "outputs": [
    {
     "name": "stdout",
     "output_type": "stream",
     "text": [
      "[21, 183]\n",
      "[23, 183]\n",
      "{'age': 21, 'course': 183}\n",
      "{'age': 23, 'course': 183}\n"
     ]
    }
   ],
   "source": [
    "# 9.1 Dictionaries\n",
    "# comparing lists and dictionaries:\n",
    "\n",
    "lst = list()\n",
    "lst.append(21)\n",
    "lst.append(183)\n",
    "print(lst)\n",
    "lst[0] = 23\n",
    "print(lst)\n",
    "\n",
    "ddd = dict()\n",
    "ddd['age'] = 21\n",
    "ddd['course'] = 183\n",
    "print(ddd)\n",
    "ddd['age'] = 23\n",
    "print(ddd)\n",
    "\n",
    "# repare that lists use '[]' and dictionaries uses '{}'"
   ]
  },
  {
   "cell_type": "code",
   "execution_count": 8,
   "metadata": {},
   "outputs": [
    {
     "name": "stdout",
     "output_type": "stream",
     "text": [
      "{'a': 2, 'b': 2, 'c': 1, 'd': 2, 'e': 2, 'f': 1}\n"
     ]
    }
   ],
   "source": [
    "# 9.2 Counting in Dictionaries\n",
    "# use keys to \"category\" and value to count...\n",
    "# using a loop to add a count or create a new category with count 1\n",
    "counts = dict()\n",
    "names = ['a', 'b', 'c', 'd', 'e', 'e', 'd', 'f', 'b', 'a']\n",
    "for name in names:\n",
    "    if name not in counts:\n",
    "        counts[name] = 1\n",
    "    else:\n",
    "        counts[name] = counts[name] + 1\n",
    "print(counts)    \n"
   ]
  },
  {
   "cell_type": "code",
   "execution_count": 29,
   "metadata": {},
   "outputs": [
    {
     "name": "stdout",
     "output_type": "stream",
     "text": [
      "{'a': 2, 'b': 2, 'c': 1, 'd': 2, 'e': 2, 'f': 1}\n"
     ]
    },
    {
     "data": {
      "text/plain": [
       "' \\nif name in count:\\n    x = counts[name]\\nelse:\\n    x = 0\\n    \\nx = counts.get(name,0)\\n'"
      ]
     },
     "execution_count": 29,
     "metadata": {},
     "output_type": "execute_result"
    }
   ],
   "source": [
    "# 9.2 Simplified Counting a Dictionaries - \"The GET method\"\n",
    "\n",
    "counts = dict()\n",
    "names = ['a', 'b', 'c', 'd', 'e', 'e', 'd', 'f', 'b', 'a']\n",
    "for name in names:\n",
    "    counts[name] = counts.get(name, 0) + 1\n",
    "print(counts)\n",
    "\n",
    "# the \".get(name, 0)\" is the same of writing:\n",
    "''' \n",
    "if name in count:\n",
    "    x = counts[name]\n",
    "else:\n",
    "    x = 0\n",
    "    \n",
    "x = counts.get(name,0)\n",
    "'''"
   ]
  },
  {
   "cell_type": "code",
   "execution_count": 34,
   "metadata": {},
   "outputs": [
    {
     "name": "stdout",
     "output_type": "stream",
     "text": [
      "Enter a line of text:\n",
      "Words: ['eu', 'nao', 'sei', 'o', 'que', 'escrever,', 'mas', 'eu', 'gostaria', 'de', 'ver', 'como', 'isso', 'funciona', 'com', 'um', 'texto', 'imenso']\n",
      "Counting...\n",
      "Counts: {'eu': 2, 'nao': 1, 'sei': 1, 'o': 1, 'que': 1, 'escrever,': 1, 'mas': 1, 'gostaria': 1, 'de': 1, 'ver': 1, 'como': 1, 'isso': 1, 'funciona': 1, 'com': 1, 'um': 1, 'texto': 1, 'imenso': 1}\n"
     ]
    }
   ],
   "source": [
    "# 9.3 Dictionaries and Files\n",
    "# rodando um count usando dictionaries para o texto inserido no input!\n",
    "\n",
    "counts = dict()\n",
    "line = input(print('Enter a line of text:'))\n",
    "words = line.split()\n",
    "print('Words:', words)\n",
    "print('Counting...')\n",
    "for word in words:\n",
    "    counts[word] = counts.get(word,0) + 1\n",
    "print('Counts:', counts)\n"
   ]
  },
  {
   "cell_type": "code",
   "execution_count": 35,
   "metadata": {},
   "outputs": [
    {
     "name": "stdout",
     "output_type": "stream",
     "text": [
      "chuck 1\n",
      "fred 42\n",
      "jan 100\n"
     ]
    }
   ],
   "source": [
    "# 9.3 Defining Loops in Dictionaries:\n",
    "# if u set the name of the dictionary in a \"for/in\", the loop is going to jump through the keys!\n",
    "\n",
    "counts = {'chuck' : 1, 'fred' : 42, 'jan' : 100}\n",
    "for key in counts:\n",
    "    print(key, counts[key])\n"
   ]
  },
  {
   "cell_type": "code",
   "execution_count": 39,
   "metadata": {},
   "outputs": [
    {
     "name": "stdout",
     "output_type": "stream",
     "text": [
      "['chuck', 'fred', 'jan']\n",
      "dict_keys(['chuck', 'fred', 'jan'])\n",
      "dict_values([1, 42, 100])\n",
      "dict_items([('chuck', 1), ('fred', 42), ('jan', 100)])\n"
     ]
    }
   ],
   "source": [
    "# 9.3 Retrieving lists of keys and values in Dictionaries\n",
    "# You can get a list of 'keys', 'values' or 'items' (both key and values) from a dic\n",
    "\n",
    "dict = {'chuck' : 1, 'fred' : 42, 'jan' : 100}\n",
    "print(list(dict))\n",
    "print(dict.keys())\n",
    "print(dict.values())\n",
    "print(dict.items())"
   ]
  },
  {
   "cell_type": "code",
   "execution_count": 40,
   "metadata": {},
   "outputs": [
    {
     "name": "stdout",
     "output_type": "stream",
     "text": [
      "chuck 1\n",
      "fred 42\n",
      "jan 100\n"
     ]
    }
   ],
   "source": [
    "# 9.3 Using Two Iteration variables!\n",
    "# the first iteration is the 'key' and second is the 'value'\n",
    "\n",
    "dict = {'chuck' : 1, 'fred' : 42, 'jan' : 100}\n",
    "for k,v in dict.items():\n",
    "    print(k,v)\n"
   ]
  },
  {
   "cell_type": "code",
   "execution_count": null,
   "metadata": {},
   "outputs": [],
   "source": [
    "# 9.3 Using two iterations to count and find biggest\n",
    "\n",
    "openfile = open('filename')\n",
    "counts = dict()\n",
    "for line in openfile:\n",
    "    words = line.split()\n",
    "    for word in words:\n",
    "        counts[word] = counts.get(word, 0) + 1\n",
    "        \n",
    "bigcount = None\n",
    "bigword = None\n",
    "for word,count in counts.items():\n",
    "    if bigcount is None or count > bigcount:\n",
    "        bigword = word\n",
    "        bigcount = count\n",
    "        \n",
    "print(bigword, bigcount)"
   ]
  },
  {
   "cell_type": "code",
   "execution_count": null,
   "metadata": {},
   "outputs": [],
   "source": [
    "# 9.4 Write a program to read through the mbox-short.txt and figure out who has sent the greatest number of mail messages. The program looks for 'From ' lines and takes the second word of those lines as the person who sent the mail. The program creates a Python dictionary that maps the sender's mail address to a count of the number of times they appear in the file. After the dictionary is produced, the program reads through the dictionary using a maximum loop to find the most prolific committer.\n",
    "\n",
    "openfile = open('mbox-short.txt')\n",
    "emailcount = dict()\n",
    "\n",
    "# the first loop for open the file and split lines taking off lines with blank spaces\n",
    "for lines in openfile:\n",
    "    lines = lines.rstrip()\n",
    "    # this if statement filters the lines that starts with 'From:\" and the ones that starts with 'From'\n",
    "    if lines.startswith('From:'):\n",
    "        continue\n",
    "    if lines.startswith('From'):\n",
    "        # this uses split to break the line in words, and set the second 'words[1]' as the email\n",
    "        # in sequence, it ads it to the dictionary emailcount with a standard value of zero, suming +1\n",
    "        words = lines.split()\n",
    "        emailcount[words[1]] = emailcount.get(words[1], 0) + 1\n",
    "\n",
    "# this second loop defines two variables to determine who is the biggest count in the dictionary created befor\n",
    "# if compares one by one, using key and values, called here email and count inside the dictionary names emailcount\n",
    "bigcount = None\n",
    "bigemail = None\n",
    "for email,count in emailcount.items():\n",
    "    if bigcount is None or count > bigcount:\n",
    "        bigemail = email\n",
    "        bigcount = count\n",
    "        \n",
    "print(bigemail, bigcount)\n",
    "\n"
   ]
  },
  {
   "cell_type": "code",
   "execution_count": null,
   "metadata": {},
   "outputs": [],
   "source": [
    "# 10.1 - Tuples\n",
    "# they are like a list, but is NOT mutable... \n",
    "# there are a lot of methods that u cant use. like append, sort...\n",
    "\n",
    "l = list()\n",
    "['append', 'count', 'extend', 'index', 'insert', 'pop', 'remove', 'reverse', 'sort']\n",
    "t = tuple()\n",
    "['count', 'index']\n",
    "\n",
    "# Tuples can be use at left side too...\n",
    "(x, y) = (4, 'fred')\n",
    "# is the same as:\n",
    "x = 4\n",
    "y = 'fred'\n"
   ]
  },
  {
   "cell_type": "code",
   "execution_count": 11,
   "metadata": {},
   "outputs": [
    {
     "name": "stdout",
     "output_type": "stream",
     "text": [
      "[(10, 'a'), (1, 'b'), (22, 'c')]\n",
      "[(22, 'c'), (10, 'a'), (1, 'b')]\n"
     ]
    }
   ],
   "source": [
    "# 10.1 - Tuples\n",
    "# comparing tuples...\n",
    "\n",
    "(4, 500) > (1, 4000)\n",
    "(4, 500) < (4, 600)\n",
    "\n",
    "# sorting by value instead of key!\n",
    "# u need to create a list of tuples from the dictionary:\n",
    "\n",
    "c = dict()\n",
    "c = {'a' : 10, 'b' : 1, 'c' : 22 }\n",
    "tmp = list()\n",
    "for k, v in c.items():\n",
    "    tmp.append((v,k))\n",
    "\n",
    "print(tmp) # this shows the list of tuples created\n",
    "tmp = sorted(tmp, reverse = True)   #here we sorted the list created, using bigger values first\n",
    "or \n",
    "tmp.sort(reverse=True)\n",
    "print(tmp)"
   ]
  },
  {
   "cell_type": "code",
   "execution_count": null,
   "metadata": {},
   "outputs": [],
   "source": [
    "# 10 Tuples\n",
    "# creating a \"count top 10\"\n",
    "\n",
    "openfile = open('romeo.txt')  #opens a file\n",
    "counts = dict()              # creates a dictionay\n",
    "for line in openfile:         # puts it in lines\n",
    "    words = line.split()      # create a list of the words in each line\n",
    "    for word in words:           # each item in the new list...\n",
    "        counts[word] = counts.get(word, 0) + 1       # adds it to the dictionary with a standard value 0 + 1\n",
    "    \n",
    "lst = list()           # creates a list\n",
    "for key, val in counts.items():     # uses the key and value from the created dictionary\n",
    "    newtup = (val, key)            # adds they to a variable called newtup inverting them\n",
    "    lst.append(newtup)               # adds they to the new list of tuples!\n",
    "    \n",
    "lst = sorted(lst, reverse = True)    # here we sorted the list starting by the bigger value\n",
    "for val, key in lst[:10]:           # them u just print the first 10 in the sorted list!\n",
    "    print(key, val)"
   ]
  },
  {
   "cell_type": "code",
   "execution_count": 8,
   "metadata": {},
   "outputs": [
    {
     "name": "stdout",
     "output_type": "stream",
     "text": [
      "[(22, 'c'), (10, 'a'), (1, 'b')]\n"
     ]
    }
   ],
   "source": [
    "# 10 Tuples\n",
    "# even shorter version!\n",
    "\n",
    "c = {'a' : 10, 'b' : 1, 'c' : 22 }\n",
    "print(sorted([(v,k) for k,v in c.items()], reverse = True))\n",
    "\n",
    "# this is the same of the last 2 blocks of code in previous \"code box\""
   ]
  },
  {
   "cell_type": "code",
   "execution_count": null,
   "metadata": {},
   "outputs": [],
   "source": [
    "# 10.2 Write a program to read through the mbox-short.txt and figure out the distribution by hour of the day for each of the messages. You can pull the hour out from the 'From ' line by finding the time and then splitting the string a second time using a colon.\n",
    "# From stephen.marquard@uct.ac.za Sat Jan  5 09:14:16 2008\n",
    "# Once you have accumulated the counts for each hour, print out the counts, sorted by hour as shown below.\n",
    "\n",
    "openfile = open('mbox-short.txt')\n",
    "hourcount = dict()\n",
    "for line in openfile:\n",
    "    line = line.strip()\n",
    "    if line.startswith('From '):\n",
    "        line = line.split()\n",
    "        time = line[5]\n",
    "        hour = time.split(':')[0]\n",
    "        hourcount[hour] = hourcount.get(hour, 0) + 1\n",
    "hourcountlist = list()\n",
    "for k, v in hourcount.items():\n",
    "    newtuple = (k, v)\n",
    "    hourcountlist.append(newtuple)\n",
    "\n",
    "    \n",
    "hourcountlist = sorted(hourcountlist)\n",
    "for key, value in hourcountlist:\n",
    "    print(key, value)"
   ]
  }
 ],
 "metadata": {
  "kernelspec": {
   "display_name": "Python 3",
   "language": "python",
   "name": "python3"
  },
  "language_info": {
   "codemirror_mode": {
    "name": "ipython",
    "version": 3
   },
   "file_extension": ".py",
   "mimetype": "text/x-python",
   "name": "python",
   "nbconvert_exporter": "python",
   "pygments_lexer": "ipython3",
   "version": "3.12.0"
  }
 },
 "nbformat": 4,
 "nbformat_minor": 2
}
